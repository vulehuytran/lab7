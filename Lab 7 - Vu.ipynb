{
 "cells": [
  {
   "cell_type": "markdown",
   "metadata": {},
   "source": [
    "## Lab 7: File Compression\n",
    "\n",
    "### Simulating the data:\n",
    "\n",
    "Using np.random.choice, generate 100 megabytes(8 bits/byte* 1024 bytes/kilobyte* 1024 kilobytes/megabyte* 100)of random data containing 100%, 90%, 80%, 70%, 60%, and 50% zeros."
   ]
  },
  {
   "cell_type": "code",
   "execution_count": 1,
   "metadata": {},
   "outputs": [],
   "source": [
    "import pandas as pd\n",
    "import numpy as np"
   ]
  },
  {
   "cell_type": "code",
   "execution_count": 2,
   "metadata": {},
   "outputs": [],
   "source": [
    "def generate_file(p1):\n",
    "    myvar = np.random.choice([0, 1], size=838860800, replace=True, p=[p1, 1-p1])\n",
    "    myvar = np.packbits(myvar)\n",
    "    return myvar"
   ]
  },
  {
   "cell_type": "code",
   "execution_count": 3,
   "metadata": {},
   "outputs": [],
   "source": [
    "myvar_50 = generate_file(0.5)\n",
    "myvar_60 = generate_file(0.6)\n",
    "myvar_70 = generate_file(0.7)\n",
    "myvar_80 = generate_file(0.8)\n",
    "myvar_90 = generate_file(0.9)\n",
    "myvar_100 = generate_file(1.0)"
   ]
  },
  {
   "cell_type": "code",
   "execution_count": 4,
   "metadata": {},
   "outputs": [
    {
     "data": {
      "text/plain": [
       "104857600"
      ]
     },
     "execution_count": 4,
     "metadata": {},
     "output_type": "execute_result"
    }
   ],
   "source": [
    "open('zeros_100p', 'wb').write(myvar_100)\n",
    "open('zeros_90p', 'wb').write(myvar_90)\n",
    "open('zeros_80p', 'wb').write(myvar_80)\n",
    "open('zeros_70p', 'wb').write(myvar_70)\n",
    "open('zeros_60p', 'wb').write(myvar_60)\n",
    "open('zeros_50p', 'wb').write(myvar_50)"
   ]
  },
  {
   "cell_type": "markdown",
   "metadata": {},
   "source": [
    "**Generate DNA sequence 100 million letters long:**"
   ]
  },
  {
   "cell_type": "code",
   "execution_count": 5,
   "metadata": {},
   "outputs": [],
   "source": [
    "mydna = np.random.choice(['A','C','G','T'], size=100000000, replace=True, p=[0.25, 0.25, 0.25, 0.25])"
   ]
  },
  {
   "cell_type": "code",
   "execution_count": 6,
   "metadata": {},
   "outputs": [
    {
     "data": {
      "text/plain": [
       "100000000"
      ]
     },
     "execution_count": 6,
     "metadata": {},
     "output_type": "execute_result"
    }
   ],
   "source": [
    "open('mydna.fa', 'w').write(''.join(mydna))"
   ]
  },
  {
   "cell_type": "markdown",
   "metadata": {},
   "source": [
    "### Compressing the data:  \n",
    "\n",
    "Run on terminal via ssh. On each of the files I generated above, run gzip, bzip, pbzip2 and ArithmeticCompress.  \n",
    "\n",
    "```time gzip -k zeros_100p```  \n",
    "real\t0m0.729s  \n",
    "user\t0m0.662s  \n",
    "sys\t0m0.064s  \n",
    "\n",
    "```time bzip2 -k zeros_100p```  \n",
    "real\t0m1.021s  \n",
    "user\t0m0.977s  \n",
    "sys\t0m0.044s  \n",
    "\n",
    "```time pbzip2 -k zeros_100p```  \n",
    "real\t0m0.105s  \n",
    "user\t0m1.798s  \n",
    "sys\t0m0.079s  \n",
    "\n",
    "```time ArithmeticCompress zeros_100p zeros_100p.art```  \n",
    "real\t0m14.810s  \n",
    "user\t0m14.761s  \n",
    "sys\t0m0.049s  "
   ]
  },
  {
   "cell_type": "code",
   "execution_count": 9,
   "metadata": {},
   "outputs": [
    {
     "data": {
      "text/html": [
       "<div>\n",
       "<style scoped>\n",
       "    .dataframe tbody tr th:only-of-type {\n",
       "        vertical-align: middle;\n",
       "    }\n",
       "\n",
       "    .dataframe tbody tr th {\n",
       "        vertical-align: top;\n",
       "    }\n",
       "\n",
       "    .dataframe thead th {\n",
       "        text-align: right;\n",
       "    }\n",
       "</style>\n",
       "<table border=\"1\" class=\"dataframe\">\n",
       "  <thead>\n",
       "    <tr style=\"text-align: right;\">\n",
       "      <th></th>\n",
       "      <th>filename</th>\n",
       "      <th>gzip_real</th>\n",
       "      <th>gzip_user</th>\n",
       "      <th>gzip_sys</th>\n",
       "      <th>bzip2_real</th>\n",
       "      <th>bzip2_user</th>\n",
       "      <th>bzip2_sys</th>\n",
       "      <th>pbzip2_real</th>\n",
       "      <th>pbzip2_user</th>\n",
       "      <th>pbzip2_sys</th>\n",
       "      <th>ac_real</th>\n",
       "      <th>ac_user</th>\n",
       "      <th>ac_sys</th>\n",
       "    </tr>\n",
       "  </thead>\n",
       "  <tbody>\n",
       "    <tr>\n",
       "      <th>0</th>\n",
       "      <td>zeros_50p</td>\n",
       "      <td>3.514</td>\n",
       "      <td>3.398</td>\n",
       "      <td>0.112</td>\n",
       "      <td>16.651</td>\n",
       "      <td>16.559</td>\n",
       "      <td>0.092</td>\n",
       "      <td>1.479</td>\n",
       "      <td>38.992</td>\n",
       "      <td>0.937</td>\n",
       "      <td>40.814</td>\n",
       "      <td>40.648</td>\n",
       "      <td>0.104</td>\n",
       "    </tr>\n",
       "    <tr>\n",
       "      <th>1</th>\n",
       "      <td>zeros_60p</td>\n",
       "      <td>4.379</td>\n",
       "      <td>4.231</td>\n",
       "      <td>0.144</td>\n",
       "      <td>16.500</td>\n",
       "      <td>16.416</td>\n",
       "      <td>0.084</td>\n",
       "      <td>1.309</td>\n",
       "      <td>35.775</td>\n",
       "      <td>0.778</td>\n",
       "      <td>40.835</td>\n",
       "      <td>40.699</td>\n",
       "      <td>0.136</td>\n",
       "    </tr>\n",
       "    <tr>\n",
       "      <th>2</th>\n",
       "      <td>zeros_70p</td>\n",
       "      <td>6.009</td>\n",
       "      <td>5.933</td>\n",
       "      <td>0.072</td>\n",
       "      <td>14.493</td>\n",
       "      <td>14.385</td>\n",
       "      <td>0.108</td>\n",
       "      <td>1.172</td>\n",
       "      <td>30.203</td>\n",
       "      <td>0.760</td>\n",
       "      <td>39.650</td>\n",
       "      <td>39.278</td>\n",
       "      <td>0.336</td>\n",
       "    </tr>\n",
       "    <tr>\n",
       "      <th>3</th>\n",
       "      <td>zeros_80p</td>\n",
       "      <td>13.392</td>\n",
       "      <td>13.189</td>\n",
       "      <td>0.193</td>\n",
       "      <td>12.511</td>\n",
       "      <td>12.395</td>\n",
       "      <td>0.116</td>\n",
       "      <td>0.928</td>\n",
       "      <td>23.208</td>\n",
       "      <td>0.743</td>\n",
       "      <td>35.742</td>\n",
       "      <td>35.364</td>\n",
       "      <td>0.328</td>\n",
       "    </tr>\n",
       "    <tr>\n",
       "      <th>4</th>\n",
       "      <td>zeros_90p</td>\n",
       "      <td>19.114</td>\n",
       "      <td>19.012</td>\n",
       "      <td>0.092</td>\n",
       "      <td>11.626</td>\n",
       "      <td>11.553</td>\n",
       "      <td>0.072</td>\n",
       "      <td>0.758</td>\n",
       "      <td>18.908</td>\n",
       "      <td>0.847</td>\n",
       "      <td>29.583</td>\n",
       "      <td>29.354</td>\n",
       "      <td>0.228</td>\n",
       "    </tr>\n",
       "    <tr>\n",
       "      <th>5</th>\n",
       "      <td>zeros_100p</td>\n",
       "      <td>0.729</td>\n",
       "      <td>0.662</td>\n",
       "      <td>0.064</td>\n",
       "      <td>1.021</td>\n",
       "      <td>0.977</td>\n",
       "      <td>0.044</td>\n",
       "      <td>0.105</td>\n",
       "      <td>1.798</td>\n",
       "      <td>0.079</td>\n",
       "      <td>14.810</td>\n",
       "      <td>14.761</td>\n",
       "      <td>0.049</td>\n",
       "    </tr>\n",
       "    <tr>\n",
       "      <th>6</th>\n",
       "      <td>mydna</td>\n",
       "      <td>12.161</td>\n",
       "      <td>12.068</td>\n",
       "      <td>0.092</td>\n",
       "      <td>9.463</td>\n",
       "      <td>9.422</td>\n",
       "      <td>0.040</td>\n",
       "      <td>0.678</td>\n",
       "      <td>16.474</td>\n",
       "      <td>0.696</td>\n",
       "      <td>21.248</td>\n",
       "      <td>21.180</td>\n",
       "      <td>0.068</td>\n",
       "    </tr>\n",
       "  </tbody>\n",
       "</table>\n",
       "</div>"
      ],
      "text/plain": [
       "     filename  gzip_real  gzip_user  gzip_sys  bzip2_real  bzip2_user  \\\n",
       "0   zeros_50p      3.514      3.398     0.112      16.651      16.559   \n",
       "1   zeros_60p      4.379      4.231     0.144      16.500      16.416   \n",
       "2   zeros_70p      6.009      5.933     0.072      14.493      14.385   \n",
       "3   zeros_80p     13.392     13.189     0.193      12.511      12.395   \n",
       "4   zeros_90p     19.114     19.012     0.092      11.626      11.553   \n",
       "5  zeros_100p      0.729      0.662     0.064       1.021       0.977   \n",
       "6       mydna     12.161     12.068     0.092       9.463       9.422   \n",
       "\n",
       "   bzip2_sys  pbzip2_real  pbzip2_user  pbzip2_sys  ac_real  ac_user  ac_sys  \n",
       "0      0.092        1.479       38.992       0.937   40.814   40.648   0.104  \n",
       "1      0.084        1.309       35.775       0.778   40.835   40.699   0.136  \n",
       "2      0.108        1.172       30.203       0.760   39.650   39.278   0.336  \n",
       "3      0.116        0.928       23.208       0.743   35.742   35.364   0.328  \n",
       "4      0.072        0.758       18.908       0.847   29.583   29.354   0.228  \n",
       "5      0.044        0.105        1.798       0.079   14.810   14.761   0.049  \n",
       "6      0.040        0.678       16.474       0.696   21.248   21.180   0.068  "
      ]
     },
     "execution_count": 9,
     "metadata": {},
     "output_type": "execute_result"
    }
   ],
   "source": [
    "from pandas import read_csv\n",
    "\n",
    "df = pd.read_csv('compression_table.csv')\n",
    "df"
   ]
  },
  {
   "cell_type": "code",
   "execution_count": 10,
   "metadata": {},
   "outputs": [
    {
     "data": {
      "text/html": [
       "<div>\n",
       "<style scoped>\n",
       "    .dataframe tbody tr th:only-of-type {\n",
       "        vertical-align: middle;\n",
       "    }\n",
       "\n",
       "    .dataframe tbody tr th {\n",
       "        vertical-align: top;\n",
       "    }\n",
       "\n",
       "    .dataframe thead th {\n",
       "        text-align: right;\n",
       "    }\n",
       "</style>\n",
       "<table border=\"1\" class=\"dataframe\">\n",
       "  <thead>\n",
       "    <tr style=\"text-align: right;\">\n",
       "      <th></th>\n",
       "      <th>filename</th>\n",
       "      <th>initial_size</th>\n",
       "      <th>gzip</th>\n",
       "      <th>bzip2</th>\n",
       "      <th>pbzip2</th>\n",
       "      <th>ac</th>\n",
       "    </tr>\n",
       "  </thead>\n",
       "  <tbody>\n",
       "    <tr>\n",
       "      <th>0</th>\n",
       "      <td>zeros_100p</td>\n",
       "      <td>105MB</td>\n",
       "      <td>102KB</td>\n",
       "      <td>113B</td>\n",
       "      <td>5.62KB</td>\n",
       "      <td>1.03KB</td>\n",
       "    </tr>\n",
       "    <tr>\n",
       "      <th>1</th>\n",
       "      <td>zeros_90p</td>\n",
       "      <td>105MB</td>\n",
       "      <td>58.7MB</td>\n",
       "      <td>61.2MB</td>\n",
       "      <td>61.2MB</td>\n",
       "      <td>49.2MB</td>\n",
       "    </tr>\n",
       "    <tr>\n",
       "      <th>2</th>\n",
       "      <td>zeros_80p</td>\n",
       "      <td>105MB</td>\n",
       "      <td>81.2MB</td>\n",
       "      <td>86.8MB</td>\n",
       "      <td>86.7MB</td>\n",
       "      <td>75.7MB</td>\n",
       "    </tr>\n",
       "    <tr>\n",
       "      <th>3</th>\n",
       "      <td>zeros_70p</td>\n",
       "      <td>105MB</td>\n",
       "      <td>93.6MB</td>\n",
       "      <td>99.8MB</td>\n",
       "      <td>99.8MB</td>\n",
       "      <td>92.4MB</td>\n",
       "    </tr>\n",
       "    <tr>\n",
       "      <th>4</th>\n",
       "      <td>zeros_60p</td>\n",
       "      <td>105MB</td>\n",
       "      <td>102MB</td>\n",
       "      <td>105MB</td>\n",
       "      <td>105MB</td>\n",
       "      <td>102MB</td>\n",
       "    </tr>\n",
       "    <tr>\n",
       "      <th>5</th>\n",
       "      <td>zeros_50p</td>\n",
       "      <td>105MB</td>\n",
       "      <td>105MB</td>\n",
       "      <td>105MB</td>\n",
       "      <td>105MB</td>\n",
       "      <td>105MB</td>\n",
       "    </tr>\n",
       "    <tr>\n",
       "      <th>6</th>\n",
       "      <td>mydna</td>\n",
       "      <td>100MB</td>\n",
       "      <td>29.3MB</td>\n",
       "      <td>27.3MB</td>\n",
       "      <td>27.3MB</td>\n",
       "      <td>25MB</td>\n",
       "    </tr>\n",
       "  </tbody>\n",
       "</table>\n",
       "</div>"
      ],
      "text/plain": [
       "     filename initial_size    gzip   bzip2  pbzip2      ac\n",
       "0  zeros_100p        105MB   102KB    113B  5.62KB  1.03KB\n",
       "1   zeros_90p        105MB  58.7MB  61.2MB  61.2MB  49.2MB\n",
       "2   zeros_80p        105MB  81.2MB  86.8MB  86.7MB  75.7MB\n",
       "3   zeros_70p        105MB  93.6MB  99.8MB  99.8MB  92.4MB\n",
       "4   zeros_60p        105MB   102MB   105MB   105MB   102MB\n",
       "5   zeros_50p        105MB   105MB   105MB   105MB   105MB\n",
       "6       mydna        100MB  29.3MB  27.3MB  27.3MB    25MB"
      ]
     },
     "execution_count": 10,
     "metadata": {},
     "output_type": "execute_result"
    }
   ],
   "source": [
    "df2 = pd.read_csv('size_table.csv')\n",
    "df2"
   ]
  },
  {
   "cell_type": "markdown",
   "metadata": {},
   "source": [
    "**Which algorithm achieves the best level of compression on each file type?**  \n",
    "ArithmeticCompress  \n",
    "\n",
    "**Which algorithm is the fastest?**  \n",
    "gzip  \n",
    "\n",
    "**What is the difference between bzip2 and pbzip2? Do you expect one to be faster and why?**  \n",
    "pbzip2 uses multiple threads and achieves near-linear speedup on SMP machines. pzip2 is slower than bzip2.  \n",
    "\n",
    "**How does the level of compression change as the percentage of zeros increases? Why does this happen?**  \n",
    "When number of zeros increases, the level of compression increases significantly. The more number of zeros appears, the easier it is to predict.  \n",
    "\n",
    "**What is the minimum number of bits required to store a single DNA base?**  \n",
    "One nucleotide can be stored by 2 bits (00, 01, 10, 11).  \n",
    "For FASTA file:  (2 bits/nu) + (8 bits for <) + (8 bits for single-letter name) + (8 bits for \\n) = 26 bits  \n",
    "\n",
    "**What is the minimum number of bits requiredto store an amino acid letter?**  \n",
    "One amino acid can be stored by 8 bits.  \n",
    "For FASTA file: (8 bits/aa) + (8 bits for <) + (8 bits for single-letter name) + (8 bits for \\n) = 32 bits  \n",
    "\n",
    "**In your tests, how many bits did gzip and bzip2 actually require to store your random DNA and protein sequences?** gzip: 29.3MB = 29.3 x 1024 x 1024 x 8 = 245786214.4 bits  \n",
    "bzip2: 27.3MB = 27.3 x 1024 x 1024 x 8 = 229008998.4 bits  \n",
    "\n",
    "**Are gzip and bzip2 performing well on DNA and proteins?**  \n",
    "Yes but ArithmeticCompress can do better.  "
   ]
  },
  {
   "cell_type": "markdown",
   "metadata": {},
   "source": [
    "### Compressing real data:"
   ]
  },
  {
   "cell_type": "markdown",
   "metadata": {},
   "source": [
    "**A priori, do you expect to achieve better or worse compression here than random data? Why?**  \n",
    "I expect to achieve better compression than random data because number of repeated sequences usually higher in real sequence than in random data."
   ]
  },
  {
   "cell_type": "markdown",
   "metadata": {},
   "source": [
    "### Estimating compression of 1000 terabytes:  \n",
    "800 TB Re-sequencing of genomes and plasmids: use ArithmeticCompress  \n",
    "100 TB Protein sequences:  \n",
    "100 TB Binary microscope images:  "
   ]
  }
 ],
 "metadata": {
  "kernelspec": {
   "display_name": "Python 3",
   "language": "python",
   "name": "python3"
  },
  "language_info": {
   "codemirror_mode": {
    "name": "ipython",
    "version": 3
   },
   "file_extension": ".py",
   "mimetype": "text/x-python",
   "name": "python",
   "nbconvert_exporter": "python",
   "pygments_lexer": "ipython3",
   "version": "3.6.6"
  }
 },
 "nbformat": 4,
 "nbformat_minor": 2
}
